{
  "nbformat": 4,
  "nbformat_minor": 0,
  "metadata": {
    "colab": {
      "provenance": []
    },
    "kernelspec": {
      "name": "python3",
      "display_name": "Python 3"
    },
    "language_info": {
      "name": "python"
    }
  },
  "cells": [
    {
      "cell_type": "code",
      "execution_count": 18,
      "metadata": {
        "colab": {
          "base_uri": "https://localhost:8080/"
        },
        "id": "aznAQ9800zCQ",
        "outputId": "5ee7c906-b859-4959-ac8d-4da435def56a"
      },
      "outputs": [
        {
          "output_type": "stream",
          "name": "stdout",
          "text": [
            "Drive already mounted at /content/drive; to attempt to forcibly remount, call drive.mount(\"/content/drive\", force_remount=True).\n"
          ]
        }
      ],
      "source": [
        "from google.colab import drive\n",
        "drive.mount('/content/drive')"
      ]
    },
    {
      "cell_type": "code",
      "source": [
        "%cd /content/drive/MyDrive/FakeNewsDetectionDataset"
      ],
      "metadata": {
        "colab": {
          "base_uri": "https://localhost:8080/"
        },
        "id": "iljrbcJN06os",
        "outputId": "a15b4dbe-c7a2-4acc-f0e3-24cd97ba6873"
      },
      "execution_count": 19,
      "outputs": [
        {
          "output_type": "stream",
          "name": "stdout",
          "text": [
            "/content/drive/MyDrive/FakeNewsDetectionDataset\n"
          ]
        }
      ]
    },
    {
      "cell_type": "code",
      "source": [
        "import pandas as pd\n",
        "\n",
        "train_data = pd.read_csv(\"liar_dataset/train.tsv\", delimiter='\\t')\n",
        "valid_data = pd.read_csv(\"liar_dataset/valid.tsv\", delimiter='\\t')\n",
        "test_data = pd.read_csv(\"liar_dataset/test.tsv\", delimiter='\\t')"
      ],
      "metadata": {
        "id": "TjDIwpQJ09Vc"
      },
      "execution_count": 20,
      "outputs": []
    },
    {
      "cell_type": "code",
      "source": [
        "print(train_data.head(5))"
      ],
      "metadata": {
        "colab": {
          "base_uri": "https://localhost:8080/"
        },
        "id": "K86u22Hl1g1d",
        "outputId": "8cac0fe7-4006-404e-bb0f-461b02857a7b"
      },
      "execution_count": 21,
      "outputs": [
        {
          "output_type": "stream",
          "name": "stdout",
          "text": [
            "    2635.json        false  \\\n",
            "0  10540.json    half-true   \n",
            "1    324.json  mostly-true   \n",
            "2   1123.json        false   \n",
            "3   9028.json    half-true   \n",
            "4  12465.json         true   \n",
            "\n",
            "  Says the Annies List political group supports third-trimester abortions on demand.  \\\n",
            "0  When did the decline of coal start? It started...                                   \n",
            "1  Hillary Clinton agrees with John McCain \"by vo...                                   \n",
            "2  Health care reform legislation is likely to ma...                                   \n",
            "3  The economic turnaround started at the end of ...                                   \n",
            "4  The Chicago Bears have had more starting quart...                                   \n",
            "\n",
            "                             abortion    dwayne-bohac  \\\n",
            "0  energy,history,job-accomplishments  scott-surovell   \n",
            "1                      foreign-policy    barack-obama   \n",
            "2                         health-care    blog-posting   \n",
            "3                        economy,jobs   charlie-crist   \n",
            "4                           education       robin-vos   \n",
            "\n",
            "         State representative      Texas  republican     0     1    0.1  \\\n",
            "0              State delegate   Virginia    democrat   0.0   0.0    1.0   \n",
            "1                   President   Illinois    democrat  70.0  71.0  160.0   \n",
            "2                         NaN        NaN        none   7.0  19.0    3.0   \n",
            "3                         NaN    Florida    democrat  15.0   9.0   20.0   \n",
            "4  Wisconsin Assembly speaker  Wisconsin  republican   0.0   3.0    2.0   \n",
            "\n",
            "     0.2   0.3                   a mailer  \n",
            "0    1.0   0.0            a floor speech.  \n",
            "1  163.0   9.0                     Denver  \n",
            "2    5.0  44.0             a news release  \n",
            "3   19.0   2.0        an interview on CNN  \n",
            "4    5.0   1.0  a an online opinion-piece  \n"
          ]
        }
      ]
    },
    {
      "cell_type": "code",
      "source": [
        "#Taking text and label columns\n",
        "train_data = train_data.iloc[:, [1, 2]]\n",
        "test_data = test_data.iloc[:, [1, 2]]\n",
        "valid_data = valid_data.iloc[:, [1, 2]]"
      ],
      "metadata": {
        "id": "RpnK2Vq61mh-"
      },
      "execution_count": 22,
      "outputs": []
    },
    {
      "cell_type": "code",
      "source": [
        "train_data.columns = ['Label', 'Text']\n",
        "test_data.columns = ['Label', 'Text']\n",
        "valid_data.columns = ['Label', 'Text']"
      ],
      "metadata": {
        "id": "NYHG3bNA1uKT"
      },
      "execution_count": 23,
      "outputs": []
    },
    {
      "cell_type": "code",
      "source": [
        "#keeping 'true', 'false', 'mostly-true', 'barely-true' labels\n",
        "labels_to_keep = ['true', 'false', 'mostly-true', 'barely-true']\n",
        "\n",
        "train_data = train_data[train_data['Label'].isin(labels_to_keep)]\n",
        "test_data = test_data[test_data['Label'].isin(labels_to_keep)]\n",
        "valid_data = valid_data[valid_data['Label'].isin(labels_to_keep)]"
      ],
      "metadata": {
        "id": "CeYR6K6l1Dwf"
      },
      "execution_count": 24,
      "outputs": []
    },
    {
      "cell_type": "code",
      "source": [
        "print(train_data.head)\n",
        "print(test_data.shape)\n",
        "print(valid_data.shape)"
      ],
      "metadata": {
        "colab": {
          "base_uri": "https://localhost:8080/"
        },
        "id": "0BWnQ-5L1Esk",
        "outputId": "041eca68-fa5c-482d-eb09-d2cc80d02fc2"
      },
      "execution_count": 25,
      "outputs": [
        {
          "output_type": "stream",
          "name": "stdout",
          "text": [
            "<bound method NDFrame.head of              Label                                               Text\n",
            "1      mostly-true  Hillary Clinton agrees with John McCain \"by vo...\n",
            "2            false  Health care reform legislation is likely to ma...\n",
            "4             true  The Chicago Bears have had more starting quart...\n",
            "5      barely-true  Jim Dunnam has not lived in the district he re...\n",
            "8      mostly-true  Says GOP primary opponents Glenn Grothman and ...\n",
            "...            ...                                                ...\n",
            "10228  mostly-true   Mike Trainor...still owes $250,000 to the state.\n",
            "10229  barely-true  The Supreme Courts views are radically out of ...\n",
            "10234  mostly-true  There are a larger number of shark attacks in ...\n",
            "10235  mostly-true  Democrats have now become the party of the [At...\n",
            "10237        false  On lifting the U.S. Cuban embargo and allowing...\n",
            "\n",
            "[7286 rows x 2 columns]>\n",
            "(909, 2)\n",
            "(919, 2)\n"
          ]
        }
      ]
    },
    {
      "cell_type": "code",
      "source": [
        "#combining train and valid data\n",
        "train_dataset = train_data.append(valid_data)\n",
        "print(train_dataset.shape)"
      ],
      "metadata": {
        "colab": {
          "base_uri": "https://localhost:8080/"
        },
        "id": "gKIVVoVx1JCu",
        "outputId": "c9c1511c-3de6-4c7a-ff51-3f792d6ee5b0"
      },
      "execution_count": 26,
      "outputs": [
        {
          "output_type": "stream",
          "name": "stdout",
          "text": [
            "(8205, 2)\n"
          ]
        },
        {
          "output_type": "stream",
          "name": "stderr",
          "text": [
            "<ipython-input-26-ee60220b9c65>:2: FutureWarning: The frame.append method is deprecated and will be removed from pandas in a future version. Use pandas.concat instead.\n",
            "  train_dataset = train_data.append(valid_data)\n"
          ]
        }
      ]
    },
    {
      "cell_type": "code",
      "source": [
        "#converting mostly-true to true and barely-true to false label\n",
        "train_dataset['Label'] = train_dataset['Label'].replace({'mostly-true': 'true', 'barely-true': 'false'})\n",
        "print(train_dataset.head)"
      ],
      "metadata": {
        "colab": {
          "base_uri": "https://localhost:8080/"
        },
        "id": "tN1Reh7Z1M1y",
        "outputId": "04a1b44f-1e8b-4c5c-ad21-3dd616467306"
      },
      "execution_count": 27,
      "outputs": [
        {
          "output_type": "stream",
          "name": "stdout",
          "text": [
            "<bound method NDFrame.head of       Label                                               Text\n",
            "1      true  Hillary Clinton agrees with John McCain \"by vo...\n",
            "2     false  Health care reform legislation is likely to ma...\n",
            "4      true  The Chicago Bears have had more starting quart...\n",
            "5     false  Jim Dunnam has not lived in the district he re...\n",
            "8      true  Says GOP primary opponents Glenn Grothman and ...\n",
            "...     ...                                                ...\n",
            "1275  false  Says U.S. Rep. Charles Bass wants to privatize...\n",
            "1279   true  Says Donald Trump has bankrupted his companies...\n",
            "1280   true  John McCain and George Bush have \"absolutely n...\n",
            "1281  false  A new poll shows 62 percent support the presid...\n",
            "1282  false  No one claims the report vindicating New Jerse...\n",
            "\n",
            "[8205 rows x 2 columns]>\n"
          ]
        }
      ]
    },
    {
      "cell_type": "code",
      "source": [
        "#converting false to 0 and true to 1\n",
        "train_dataset['Label'] = pd.get_dummies(train_dataset.Label)['true']\n",
        "test_data['Label'] = pd.get_dummies(test_data.Label)['true']\n"
      ],
      "metadata": {
        "id": "gMM-S4zK1NuQ"
      },
      "execution_count": 28,
      "outputs": []
    },
    {
      "cell_type": "code",
      "source": [
        "print(train_dataset.head(3))"
      ],
      "metadata": {
        "colab": {
          "base_uri": "https://localhost:8080/"
        },
        "id": "HesgjEUX1SHA",
        "outputId": "e0c44567-a893-4619-9083-60d109d06476"
      },
      "execution_count": 29,
      "outputs": [
        {
          "output_type": "stream",
          "name": "stdout",
          "text": [
            "   Label                                               Text\n",
            "1      1  Hillary Clinton agrees with John McCain \"by vo...\n",
            "2      0  Health care reform legislation is likely to ma...\n",
            "4      1  The Chicago Bears have had more starting quart...\n"
          ]
        }
      ]
    },
    {
      "cell_type": "code",
      "source": [
        "from sklearn.model_selection import train_test_split\n",
        "# Splitting the data into training and validation sets (80% train, 20% test)\n",
        "\n",
        "X_train, X_valid, y_train, y_valid = train_test_split(train_dataset['Text'], train_dataset['Label'], test_size=0.2, random_state=42)"
      ],
      "metadata": {
        "id": "1BlKg8x32WhK"
      },
      "execution_count": 31,
      "outputs": []
    },
    {
      "cell_type": "code",
      "source": [
        "print(X_train.shape)\n",
        "print(X_valid.shape)"
      ],
      "metadata": {
        "colab": {
          "base_uri": "https://localhost:8080/"
        },
        "id": "HDOixO2s3T0s",
        "outputId": "4a623bf1-30f2-44f0-ece2-ac141d4a204e"
      },
      "execution_count": 33,
      "outputs": [
        {
          "output_type": "stream",
          "name": "stdout",
          "text": [
            "(6564,)\n",
            "(1641,)\n"
          ]
        }
      ]
    }
  ]
}