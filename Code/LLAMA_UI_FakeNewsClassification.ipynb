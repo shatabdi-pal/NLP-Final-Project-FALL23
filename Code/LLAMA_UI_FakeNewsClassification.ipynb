{
  "nbformat": 4,
  "nbformat_minor": 0,
  "metadata": {
    "colab": {
      "provenance": []
    },
    "kernelspec": {
      "name": "python3",
      "display_name": "Python 3"
    },
    "language_info": {
      "name": "python"
    }
  },
  "cells": [
    {
      "cell_type": "code",
      "execution_count": 1,
      "metadata": {
        "colab": {
          "base_uri": "https://localhost:8080/"
        },
        "id": "Y-bs1TXqGDQr",
        "outputId": "b2b92364-9b4a-4256-da9c-08a9f90331cf"
      },
      "outputs": [
        {
          "output_type": "stream",
          "name": "stdout",
          "text": [
            "Mounted at /content/drive\n"
          ]
        }
      ],
      "source": [
        "from google.colab import drive\n",
        "drive.mount('/content/drive')"
      ]
    },
    {
      "cell_type": "code",
      "source": [
        "import pandas as pd\n",
        "dataset = \"/content/drive/MyDrive/Colab Notebooks/project-llama - Sheet1.csv\""
      ],
      "metadata": {
        "id": "-6igkmhZGkb_"
      },
      "execution_count": 2,
      "outputs": []
    },
    {
      "cell_type": "code",
      "source": [
        "# Load data\n",
        "data = pd.read_csv(dataset)\n",
        "data.dropna()\n",
        "print(data.head(3))"
      ],
      "metadata": {
        "colab": {
          "base_uri": "https://localhost:8080/"
        },
        "id": "gI__viXnInvN",
        "outputId": "e654e620-6f30-4bb3-8c89-1db6568b78f8"
      },
      "execution_count": 6,
      "outputs": [
        {
          "output_type": "stream",
          "name": "stdout",
          "text": [
            "   Unnamed: 0                                               News  true label  \\\n",
            "0           1  Says Vice President Joe Biden \"admits that the...           0   \n",
            "1           2  Active duty males in the military are twice as...           1   \n",
            "2           3  Texas families have kept more than $10 billion...           1   \n",
            "\n",
            "   predicted label -LLAMA  \n",
            "0                       0  \n",
            "1                       0  \n",
            "2                       1  \n"
          ]
        }
      ]
    },
    {
      "cell_type": "code",
      "source": [
        "true_label= data['true label']\n",
        "predicted_label = data['predicted label -LLAMA']"
      ],
      "metadata": {
        "id": "7RMnfdtEIziZ"
      },
      "execution_count": 8,
      "outputs": []
    },
    {
      "cell_type": "code",
      "source": [
        "from sklearn.metrics import classification_report\n",
        "from sklearn.metrics import confusion_matrix\n",
        "\n",
        "def printClassificationReport(true_labels, predict_labels):\n",
        "  report = classification_report(true_labels, predict_labels)\n",
        "  confusionMatrix = confusion_matrix(true_labels, predict_labels)\n",
        "  return(report, confusionMatrix)"
      ],
      "metadata": {
        "id": "hz3q3r5NJ8VV"
      },
      "execution_count": 7,
      "outputs": []
    },
    {
      "cell_type": "code",
      "source": [
        "report, confusionMatrix = printClassificationReport(true_label, predicted_label)\n",
        "print(\"\\nClassification Report for LLAMA\\n\", report,\"\\nConfusion Matrix : \\n\",confusionMatrix)"
      ],
      "metadata": {
        "colab": {
          "base_uri": "https://localhost:8080/"
        },
        "id": "OQMjHtZ4KAMg",
        "outputId": "cc94fa36-4ff2-4bfc-b338-d7a68bfe4234"
      },
      "execution_count": 9,
      "outputs": [
        {
          "output_type": "stream",
          "name": "stdout",
          "text": [
            "\n",
            "Classification Report for LLAMA\n",
            "               precision    recall  f1-score   support\n",
            "\n",
            "           0       0.63      0.56      0.59        39\n",
            "           1       0.41      0.48      0.44        25\n",
            "\n",
            "    accuracy                           0.53        64\n",
            "   macro avg       0.52      0.52      0.52        64\n",
            "weighted avg       0.54      0.53      0.54        64\n",
            " \n",
            "Confusion Matrix : \n",
            " [[22 17]\n",
            " [13 12]]\n"
          ]
        }
      ]
    },
    {
      "cell_type": "code",
      "source": [
        "RealTimeNews_LLAMA_predicted_label = [1,0,0,1,1,0,1,1,1,0]\n",
        "\n",
        "RealTimeNews_true_label = [0,1,0,1,0,1,0,1,0,1]\n",
        "\n"
      ],
      "metadata": {
        "id": "a7PR2Aq9KOk7"
      },
      "execution_count": 10,
      "outputs": []
    },
    {
      "cell_type": "code",
      "source": [
        "report, confusionMatrix = printClassificationReport(RealTimeNews_true_label, RealTimeNews_LLAMA_predicted_label)\n",
        "print(\"\\nClassification Report for REAL TIME NEWS by LLAMA\\n\", report,\"\\nConfusion Matrix : \\n\",confusionMatrix)"
      ],
      "metadata": {
        "colab": {
          "base_uri": "https://localhost:8080/"
        },
        "id": "bwU1fy5ZLWVr",
        "outputId": "d31699a9-267e-4c0f-dd25-7847a62bb6a1"
      },
      "execution_count": 12,
      "outputs": [
        {
          "output_type": "stream",
          "name": "stdout",
          "text": [
            "\n",
            "Classification Report for REAL TIME NEWS by LLAMA\n",
            "               precision    recall  f1-score   support\n",
            "\n",
            "           0       0.25      0.20      0.22         5\n",
            "           1       0.33      0.40      0.36         5\n",
            "\n",
            "    accuracy                           0.30        10\n",
            "   macro avg       0.29      0.30      0.29        10\n",
            "weighted avg       0.29      0.30      0.29        10\n",
            " \n",
            "Confusion Matrix : \n",
            " [[1 4]\n",
            " [3 2]]\n"
          ]
        }
      ]
    },
    {
      "cell_type": "code",
      "source": [],
      "metadata": {
        "id": "Ri-xR73ALgDW"
      },
      "execution_count": null,
      "outputs": []
    }
  ]
}